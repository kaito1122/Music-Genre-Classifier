{
 "cells": [
  {
   "cell_type": "code",
   "execution_count": 1,
   "id": "e1e70d0c",
   "metadata": {},
   "outputs": [
    {
     "name": "stderr",
     "output_type": "stream",
     "text": [
      "/Users/huangrunzhe/opt/anaconda3/lib/python3.8/site-packages/pydub/utils.py:170: RuntimeWarning: Couldn't find ffmpeg or avconv - defaulting to ffmpeg, but may not work\n",
      "  warn(\"Couldn't find ffmpeg or avconv - defaulting to ffmpeg, but may not work\", RuntimeWarning)\n"
     ]
    }
   ],
   "source": [
    "import numpy as np\n",
    "import librosa\n",
    "import librosa.display\n",
    "import matplotlib.pyplot as plt\n",
    "from sklearn.model_selection import train_test_split\n",
    "import pywt\n",
    "import pandas as pd\n",
    "import os\n",
    "from sklearn.preprocessing import StandardScaler\n",
    "import audioread\n",
    "from pydub import AudioSegment"
   ]
  },
  {
   "cell_type": "code",
   "execution_count": 2,
   "id": "b93cf69e",
   "metadata": {},
   "outputs": [],
   "source": [
    "# Load the datasets\n",
    "file_30_sec = 'data/GTZAN/features_30_sec.csv' \n",
    "file_3_sec = 'data/GTZAN/features_3_sec.csv'  \n",
    "\n",
    "df_30_sec = pd.read_csv(file_30_sec)\n",
    "df_3_sec = pd.read_csv(file_3_sec)"
   ]
  },
  {
   "cell_type": "code",
   "execution_count": 3,
   "id": "b0ec6226",
   "metadata": {},
   "outputs": [],
   "source": [
    "# Function to extract spectrograms and wavelet features\n",
    "def extract_features(file_path, sr=22050, n_mels=128, wavelet='db1'):\n",
    "    try:\n",
    "        # Load audio file\n",
    "        y, sr = librosa.load(file_path, sr=sr)\n",
    "        # Extract Mel spectrogram\n",
    "        mel_spectrogram = librosa.feature.melspectrogram(y=y, sr=sr, n_mels=n_mels)\n",
    "        mel_spectrogram_db = librosa.power_to_db(mel_spectrogram, ref=np.max)\n",
    "        mel_spectrogram_flattened = mel_spectrogram_db.flatten()  # Flatten for use in ML models\n",
    "        \n",
    "        # Extract wavelet features\n",
    "        coeffs = pywt.wavedec(y, wavelet, level=5)\n",
    "        wavelet_features = np.concatenate([np.array(c).flatten() for c in coeffs])\n",
    "        \n",
    "        # Extract chroma features\n",
    "        chroma_stft = librosa.feature.chroma_stft(y=y, sr=sr)\n",
    "        chroma_features_flattened = chroma_stft.flatten()  # Flatten for use in ML models\n",
    "\n",
    "        # Combine all features into a single feature vector\n",
    "        combined_features = np.concatenate((mel_spectrogram_flattened, wavelet_features, chroma_features_flattened), axis=0)\n",
    "    except (FileNotFoundError, librosa.util.exceptions.LibrosaError, audioread.NoBackendError):\n",
    "        # If audio file is not found or cannot be loaded, use features from CSV instead\n",
    "        print(f\"Audio file {file_path} not found or cannot be processed. Using CSV features instead.\")\n",
    "        combined_features = None\n",
    "    \n",
    "    return combined_features\n",
    "\n",
    "# Splitting the dataset into training, validation, and test sets\n",
    "def split_data(df, test_size=0.2, val_size=0.2):\n",
    "    train_val, test = train_test_split(df, test_size=test_size, stratify=df['label'], random_state=42)\n",
    "    train, val = train_test_split(train_val, test_size=val_size, stratify=train_val['label'], random_state=42)\n",
    "    return train, val, test\n",
    "\n",
    "# Function to process the entire dataset and extract features\n",
    "def process_dataset(df, audio_directory):\n",
    "    features = []\n",
    "    labels = []\n",
    "    for idx, row in df.iterrows():\n",
    "        file_path = os.path.join(audio_directory, row['label'], row['filename'])\n",
    "        feature_vector = extract_features(file_path)\n",
    "        # If audio features cannot be extracted, use CSV features\n",
    "        if feature_vector is None:\n",
    "            feature_vector = row.drop(['label']).filter(regex='^(?!filename)').values.astype(np.float32)\n",
    "        features.append(feature_vector)\n",
    "        labels.append(row['label'])\n",
    "    # Ensure all feature vectors have the same length by padding or truncating\n",
    "    max_length = max(len(f) for f in features)\n",
    "    features = np.array([np.pad(f, (0, max_length - len(f)), 'constant') if len(f) < max_length else f[:max_length] for f in features])\n",
    "    return features, np.array(labels)"
   ]
  },
  {
   "cell_type": "code",
   "execution_count": 4,
   "id": "825122af",
   "metadata": {},
   "outputs": [
    {
     "name": "stderr",
     "output_type": "stream",
     "text": [
      "/var/folders/zc/plx9x5rd0456g8z22x8cr1300000gn/T/ipykernel_91922/185016869.py:5: UserWarning: PySoundFile failed. Trying audioread instead.\n",
      "  y, sr = librosa.load(file_path, sr=sr)\n",
      "/Users/huangrunzhe/opt/anaconda3/lib/python3.8/site-packages/librosa/core/audio.py:184: FutureWarning: librosa.core.audio.__audioread_load\n",
      "\tDeprecated as of librosa version 0.10.0.\n",
      "\tIt will be removed in librosa version 1.0.\n",
      "  y, sr_native = __audioread_load(path, offset, duration, dtype)\n"
     ]
    },
    {
     "name": "stdout",
     "output_type": "stream",
     "text": [
      "Audio file data/GTZAN/genres_original/jazz/jazz.00054.wav not found or cannot be processed. Using CSV features instead.\n",
      "30-sec Dataset - Training Features Shape: (640, 860608)\n",
      "30-sec Dataset - Validation Features Shape: (160, 860608)\n",
      "30-sec Dataset - Test Features Shape: (200, 860608)\n"
     ]
    }
   ],
   "source": [
    "# Splitting the smaller dataset for testing feature extraction (30-sec dataset)\n",
    "train_df_30_sec, val_df_30_sec, test_df_30_sec = split_data(df_30_sec)\n",
    "\n",
    "# Extract features for the entire dataset and standardize\n",
    "scaler_30_sec = StandardScaler()\n",
    "\n",
    "# Process training, validation, and test sets for 30-sec dataset\n",
    "train_features_30_sec, train_labels_30_sec = process_dataset(train_df_30_sec, 'data/GTZAN/genres_original')\n",
    "val_features_30_sec, val_labels_30_sec = process_dataset(val_df_30_sec, 'data/GTZAN/genres_original')\n",
    "test_features_30_sec, test_labels_30_sec = process_dataset(test_df_30_sec, 'data/GTZAN/genres_original')\n",
    "\n",
    "# Standardize the features for 30-sec dataset\n",
    "train_features_30_sec = scaler_30_sec.fit_transform(train_features_30_sec)\n",
    "val_features_30_sec = scaler_30_sec.transform(val_features_30_sec)\n",
    "test_features_30_sec = scaler_30_sec.transform(test_features_30_sec)\n",
    "\n",
    "# Display resulting data splits for 30-sec dataset\n",
    "print(\"30-sec Dataset - Training Features Shape:\", train_features_30_sec.shape)\n",
    "print(\"30-sec Dataset - Validation Features Shape:\", val_features_30_sec.shape)\n",
    "print(\"30-sec Dataset - Test Features Shape:\", test_features_30_sec.shape)"
   ]
  },
  {
   "cell_type": "code",
   "execution_count": 5,
   "id": "390ae947",
   "metadata": {},
   "outputs": [
    {
     "name": "stdout",
     "output_type": "stream",
     "text": [
      "3-sec Dataset - Training Features Shape: (6393, 58)\n",
      "3-sec Dataset - Validation Features Shape: (1599, 58)\n",
      "3-sec Dataset - Test Features Shape: (1998, 58)\n"
     ]
    }
   ],
   "source": [
    "# Splitting the smaller dataset for testing feature extraction (3-sec dataset)\n",
    "train_df_3_sec, val_df_3_sec, test_df_3_sec = split_data(df_3_sec)\n",
    "\n",
    "# Extract features directly from CSV for 3-sec dataset\n",
    "scaler_3_sec = StandardScaler()\n",
    "\n",
    "# Prepare features and labels from the dataframe directly\n",
    "train_features_3_sec = train_df_3_sec.drop(columns=['label']).filter(regex='^(?!filename)').values.astype(np.float32)\n",
    "train_labels_3_sec = train_df_3_sec['label'].values\n",
    "\n",
    "val_features_3_sec = val_df_3_sec.drop(columns=['label']).filter(regex='^(?!filename)').values.astype(np.float32)\n",
    "val_labels_3_sec = val_df_3_sec['label'].values\n",
    "\n",
    "test_features_3_sec = test_df_3_sec.drop(columns=['label']).filter(regex='^(?!filename)').values.astype(np.float32)\n",
    "test_labels_3_sec = test_df_3_sec['label'].values\n",
    "\n",
    "# Standardize the features for 3-sec dataset\n",
    "train_features_3_sec = scaler_3_sec.fit_transform(train_features_3_sec)\n",
    "val_features_3_sec = scaler_3_sec.transform(val_features_3_sec)\n",
    "test_features_3_sec = scaler_3_sec.transform(test_features_3_sec)\n",
    "\n",
    "# Display resulting data splits for 3-sec dataset\n",
    "print(\"3-sec Dataset - Training Features Shape:\", train_features_3_sec.shape)\n",
    "print(\"3-sec Dataset - Validation Features Shape:\", val_features_3_sec.shape)\n",
    "print(\"3-sec Dataset - Test Features Shape:\", test_features_3_sec.shape)"
   ]
  },
  {
   "cell_type": "code",
   "execution_count": null,
   "id": "735c6562",
   "metadata": {},
   "outputs": [],
   "source": []
  }
 ],
 "metadata": {
  "kernelspec": {
   "display_name": "Python 3 (ipykernel)",
   "language": "python",
   "name": "python3"
  },
  "language_info": {
   "codemirror_mode": {
    "name": "ipython",
    "version": 3
   },
   "file_extension": ".py",
   "mimetype": "text/x-python",
   "name": "python",
   "nbconvert_exporter": "python",
   "pygments_lexer": "ipython3",
   "version": "3.8.8"
  }
 },
 "nbformat": 4,
 "nbformat_minor": 5
}
